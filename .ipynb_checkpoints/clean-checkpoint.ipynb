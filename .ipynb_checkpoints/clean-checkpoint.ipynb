{
 "cells": [
  {
   "cell_type": "code",
   "execution_count": 1,
   "id": "d24e381b",
   "metadata": {},
   "outputs": [],
   "source": [
    "import pandas as pd\n",
    "import json\n",
    "from urllib.request import urlopen\n",
    "from minio import Minio\n",
    "import os"
   ]
  },
  {
   "cell_type": "code",
   "execution_count": 2,
   "id": "a9174e41",
   "metadata": {},
   "outputs": [],
   "source": [
    "def upload(filename):\n",
    "    client = Minio(\n",
    "        \"minio.lb.atoutfrance.poc.cleyrop.tech\",\n",
    "        access_key=\"admin\",\n",
    "        secret_key=\"poccleyrop\"\n",
    "    )\n",
    "    bucket=\"thomas-fontaine28\"\n",
    "    client.fput_object(bucket, filename, filename)\n",
    "    print(f\" - {filename} uploaded\")"
   ]
  },
  {
   "cell_type": "code",
   "execution_count": 3,
   "id": "01dd0f75",
   "metadata": {},
   "outputs": [],
   "source": [
    "# Création du dataset france_covid\n",
    "def france_covid(df_france):\n",
    "    df_france = df_france.set_index('date')\n",
    "    df_france = df_france.apply(pd.to_numeric)\n",
    "    df_france['variation'] = df_france['value'].pct_change()\n",
    "    df_france.to_csv('france_covid.csv')\n",
    "    print(\" - france_covid.csv créé\")\n",
    "    upload(\"france_covid.csv\")"
   ]
  },
  {
   "cell_type": "code",
   "execution_count": 4,
   "id": "1ec1813b",
   "metadata": {},
   "outputs": [],
   "source": [
    "# Création du dataset france_covid\n",
    "def france_covid_mm7(df_france_mm7):\n",
    "    df_france_mm7['value'] = df_france_mm7['value'].rolling(window=7).mean()\n",
    "    df_france_mm7['variation'] = df_france_mm7['value'].pct_change(periods = 7)\n",
    "    df_france_mm7.to_csv('france_covid_mm7.csv')\n",
    "    print(\" - france_covid_mm7.csv créé\")\n",
    "    upload(\"france_covid_mm7.csv\")"
   ]
  },
  {
   "cell_type": "code",
   "execution_count": 5,
   "id": "f8c28682",
   "metadata": {},
   "outputs": [],
   "source": [
    "def get_df_mutation(url, mutation):\n",
    "    print(f\"  - Travail sur la mutation {mutation}\")\n",
    "    response = urlopen(url)\n",
    "    json_prop_variant = json.loads(response.read())\n",
    "\n",
    "    df_prop_variant = pd.json_normalize(\n",
    "        json_prop_variant['regions'], \n",
    "        record_path =['values'], \n",
    "        meta=['code_level']\n",
    "    )\n",
    "    df_prop_variant.rename(columns={'value': mutation}, inplace=True)\n",
    "    return df_prop_variant"
   ]
  },
  {
   "cell_type": "code",
   "execution_count": 6,
   "id": "40140f33",
   "metadata": {},
   "outputs": [],
   "source": [
    "def get_df_france():\n",
    "    url_cas_positifs = \"https://data.widgets.dashboard.covid19.data.gouv.fr/cas_positifs.json\"\n",
    "    response = urlopen(url_cas_positifs)\n",
    "    json_cas_positifs = json.loads(response.read())\n",
    "    df_france = pd.json_normalize(json_cas_positifs['france'][0]['values'])\n",
    "    return df_france"
   ]
  },
  {
   "cell_type": "code",
   "execution_count": 7,
   "id": "d32d6650",
   "metadata": {},
   "outputs": [],
   "source": [
    "def get_df_regions():\n",
    "    url_cas_positifs = \"https://data.widgets.dashboard.covid19.data.gouv.fr/cas_positifs.json\"\n",
    "    response = urlopen(url_cas_positifs)\n",
    "    json_cas_regions = json.loads(response.read())\n",
    "    df_cas_regions = pd.json_normalize(\n",
    "        json_cas_regions['regions'], \n",
    "        record_path =['values'], \n",
    "        meta=['code_level']\n",
    "    )\n",
    "    df_cas_regions.rename(columns={'value': 'nb_cas'}, inplace=True)\n",
    "    return df_cas_regions"
   ]
  },
  {
   "cell_type": "code",
   "execution_count": 8,
   "id": "e95d7887",
   "metadata": {},
   "outputs": [],
   "source": [
    "def variant_regions():\n",
    "    df_cas_regions = get_df_regions()\n",
    "    df_prop_variant_A = get_df_mutation(\"https://data.widgets.dashboard.covid19.data.gouv.fr/prop_variant_A.json\",\"prop_a\")\n",
    "    df_prop_variant_B = get_df_mutation(\"https://data.widgets.dashboard.covid19.data.gouv.fr/prop_variant_B.json\",\"prop_b\")\n",
    "    df_prop_variant_C = get_df_mutation(\"https://data.widgets.dashboard.covid19.data.gouv.fr/prop_variant_C.json\",\"prop_c\")\n",
    "    df_prop_variant_D = get_df_mutation(\"https://data.widgets.dashboard.covid19.data.gouv.fr/prop_variant_D.json\",\"prop_d\")\n",
    "    \n",
    "    df_prop_variant_AB = pd.merge(df_prop_variant_A, df_prop_variant_B,  how='outer', left_on=['date','code_level'], right_on = ['date','code_level'])\n",
    "    df_prop_variant_ABC = pd.merge(df_prop_variant_AB, df_prop_variant_C,  how='outer', left_on=['date','code_level'], right_on = ['date','code_level'])\n",
    "    df_prop_variant_region = pd.merge(df_prop_variant_ABC, df_prop_variant_D,  how='outer', left_on=['date','code_level'], right_on = ['date','code_level'])\n",
    "    df_prop_variant_region = pd.merge(df_prop_variant_region, df_cas_regions,  how='left', left_on=['date','code_level'], right_on = ['date','code_level'])\n",
    "    df_prop_variant_region = df_prop_variant_region[['date', 'code_level','nb_cas', 'prop_a', 'prop_b', 'prop_c', 'prop_d']]\n",
    "    \n",
    "    # To numeric\n",
    "    df_prop_variant_region[['prop_a', 'prop_b', 'prop_c', 'prop_d']] = df_prop_variant_region[['prop_a', 'prop_b', 'prop_c', 'prop_d']].apply(pd.to_numeric)\n",
    "    # Replace NA \n",
    "    df_prop_variant_region[['prop_a', 'prop_b', 'prop_c', 'prop_d']] = df_prop_variant_region[['prop_a', 'prop_b', 'prop_c', 'prop_d']].fillna(0)\n",
    "    df_prop_variant_region.to_csv('prop_variant_region.csv')\n",
    "    print(\" - prop_variant_region.csv créé\")\n",
    "    upload(\"prop_variant_region.csv\")"
   ]
  },
  {
   "cell_type": "code",
   "execution_count": 9,
   "id": "e9f638ba",
   "metadata": {},
   "outputs": [],
   "source": [
    "def main():\n",
    "    print(\"Création des dataset France\")\n",
    "    df_france = get_df_france()\n",
    "    france_covid(df_france)\n",
    "    france_covid_mm7(df_france)\n",
    "    \n",
    "    print(\"Création du dataset variant par régions\")\n",
    "    variant_regions()\n",
    "    "
   ]
  },
  {
   "cell_type": "code",
   "execution_count": 10,
   "id": "4340d21b",
   "metadata": {},
   "outputs": [
    {
     "name": "stdout",
     "output_type": "stream",
     "text": [
      "Création des dataset France\n",
      " - france_covid.csv créé\n",
      " - france_covid.csv uploaded\n",
      " - france_covid_mm7.csv créé\n",
      " - france_covid_mm7.csv uploaded\n",
      "Création du dataset variant par régions\n",
      "  - Travail sur la mutation prop_a\n",
      "  - Travail sur la mutation prop_b\n",
      "  - Travail sur la mutation prop_c\n",
      "  - Travail sur la mutation prop_d\n",
      " - prop_variant_region.csv créé\n",
      " - prop_variant_region.csv uploaded\n"
     ]
    }
   ],
   "source": [
    "if __name__ == '__main__':\n",
    "    main()"
   ]
  }
 ],
 "metadata": {
  "kernelspec": {
   "display_name": "Python 3",
   "language": "python",
   "name": "python3"
  },
  "language_info": {
   "codemirror_mode": {
    "name": "ipython",
    "version": 3
   },
   "file_extension": ".py",
   "mimetype": "text/x-python",
   "name": "python",
   "nbconvert_exporter": "python",
   "pygments_lexer": "ipython3",
   "version": "3.9.2"
  }
 },
 "nbformat": 4,
 "nbformat_minor": 5
}
